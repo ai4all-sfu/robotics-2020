{
 "cells": [
  {
   "cell_type": "markdown",
   "metadata": {},
   "source": [
    "# Sentiment Analysis\n"
   ]
  },
  {
   "cell_type": "markdown",
   "metadata": {},
   "source": [
    "## What is Sentiment Analysis?\n",
    "\n",
    "Sentiment analysis is a method in NLP used to classify the emotion (or tone) and subjectiveness of human language. At the most common and basic level, the goal is to classify a text as positive, negative, or neutral."
   ]
  },
  {
   "cell_type": "markdown",
   "metadata": {},
   "source": [
    "### Getting Started"
   ]
  },
  {
   "cell_type": "code",
   "execution_count": 4,
   "metadata": {
    "deletable": true,
    "editable": true
   },
   "outputs": [],
   "source": [
    "# import what we need\n",
    "import pandas as pd\n",
    "from pandas import DataFrame as DF, Series\n",
    "\n",
    "import numpy as np\n",
    "\n",
    "import matplotlib.pyplot as plt\n",
    "%matplotlib inline\n",
    "\n",
    "from textblob import TextBlob"
   ]
  },
  {
   "cell_type": "markdown",
   "metadata": {
    "deletable": true,
    "editable": true
   },
   "source": [
    "## Basic Sentiment Analysis"
   ]
  },
  {
   "cell_type": "markdown",
   "metadata": {
    "deletable": true,
    "editable": true
   },
   "source": [
    "TextBlob has a `sentiment` method that can be used on any `TextBlob` object. It returns two values:\n",
    "* polarity: value in range [-1, 1], indicating how negative or positive the text is (close to 0.0 is neutral).\n",
    "* subjectivity: value in range [0, 1], indicating how subjective the text is (1 is very subjective)"
   ]
  },
  {
   "cell_type": "code",
   "execution_count": 5,
   "metadata": {
    "collapsed": false,
    "deletable": true,
    "editable": true,
    "jupyter": {
     "outputs_hidden": false
    }
   },
   "outputs": [
    {
     "name": "stdout",
     "output_type": "stream",
     "text": [
      "The food is on the table \n",
      "(p=0.0, s=0.0) \n",
      "\n",
      "The food is green \n",
      "(p=-0.2, s=0.3) \n",
      "\n",
      "I don't like the food \n",
      "(p=0.0, s=0.0) \n",
      "\n",
      "I do not like the food \n",
      "(p=0.0, s=0.0) \n",
      "\n",
      "I like the food \n",
      "(p=0.0, s=0.0) \n",
      "\n",
      "I don't love the food \n",
      "(p=0.5, s=0.6) \n",
      "\n",
      "I do not love the food \n",
      "(p=-0.25, s=0.6) \n",
      "\n",
      "I hate the food \n",
      "(p=-0.8, s=0.9) \n",
      "\n",
      "I love the food \n",
      "(p=0.5, s=0.6) \n",
      "\n",
      "The food is delicious \n",
      "(p=1.0, s=1.0) \n",
      "\n"
     ]
    }
   ],
   "source": [
    "lines = [\"The food is on the table\", \"The food is green\", \"I don't like the food\",\n",
    "         \"I do not like the food\", \"I like the food\", \"I don't love the food\", \"I do not love the food\",\n",
    "         \"I hate the food\", \"I love the food\", \"The food is delicious\"]\n",
    "\n",
    "# analyze the sentences\n",
    "sentiments = [b.sentiment for b in [TextBlob(l) for l in lines]]\n",
    "for l,s in zip(lines, sentiments):\n",
    "    print('{} \\n(p={}, s={})'.format(l, s[0], s[1]), '\\n')"
   ]
  },
  {
   "cell_type": "markdown",
   "metadata": {},
   "source": [
    "Here you can see the inefficiency of the textblob library, but it is a good practice for now."
   ]
  },
  {
   "cell_type": "markdown",
   "metadata": {},
   "source": [
    "### Using textblob on labeled data"
   ]
  },
  {
   "cell_type": "code",
   "execution_count": 8,
   "metadata": {},
   "outputs": [],
   "source": [
    "# read data\n",
    "cols = ['airline_sentiment','airline_sentiment_confidence',\n",
    "        'airline','name','text']\n",
    "data = pd.read_csv('data/dataset/tweets.csv', usecols=cols)"
   ]
  },
  {
   "cell_type": "code",
   "execution_count": 9,
   "metadata": {},
   "outputs": [],
   "source": [
    "# get subset of tweets where confidence is > 0.6\n",
    "subset = data[data.airline_sentiment_confidence > 0.6]\\\n",
    "    .head(10).copy().reset_index(drop=True)\n",
    "tweets = subset.text"
   ]
  },
  {
   "cell_type": "code",
   "execution_count": 10,
   "metadata": {
    "collapsed": false,
    "deletable": true,
    "editable": true,
    "jupyter": {
     "outputs_hidden": false
    }
   },
   "outputs": [
    {
     "data": {
      "text/html": [
       "<div>\n",
       "<style scoped>\n",
       "    .dataframe tbody tr th:only-of-type {\n",
       "        vertical-align: middle;\n",
       "    }\n",
       "\n",
       "    .dataframe tbody tr th {\n",
       "        vertical-align: top;\n",
       "    }\n",
       "\n",
       "    .dataframe thead th {\n",
       "        text-align: right;\n",
       "    }\n",
       "</style>\n",
       "<table border=\"1\" class=\"dataframe\">\n",
       "  <thead>\n",
       "    <tr style=\"text-align: right;\">\n",
       "      <th></th>\n",
       "      <th>airline_sentiment</th>\n",
       "      <th>airline_sentiment_confidence</th>\n",
       "      <th>airline</th>\n",
       "      <th>name</th>\n",
       "      <th>text</th>\n",
       "    </tr>\n",
       "  </thead>\n",
       "  <tbody>\n",
       "    <tr>\n",
       "      <th>0</th>\n",
       "      <td>neutral</td>\n",
       "      <td>1.0000</td>\n",
       "      <td>Virgin America</td>\n",
       "      <td>cairdin</td>\n",
       "      <td>@VirginAmerica What @dhepburn said.</td>\n",
       "    </tr>\n",
       "    <tr>\n",
       "      <th>1</th>\n",
       "      <td>neutral</td>\n",
       "      <td>0.6837</td>\n",
       "      <td>Virgin America</td>\n",
       "      <td>yvonnalynn</td>\n",
       "      <td>@VirginAmerica I didn't today... Must mean I n...</td>\n",
       "    </tr>\n",
       "    <tr>\n",
       "      <th>2</th>\n",
       "      <td>negative</td>\n",
       "      <td>1.0000</td>\n",
       "      <td>Virgin America</td>\n",
       "      <td>jnardino</td>\n",
       "      <td>@VirginAmerica it's really aggressive to blast...</td>\n",
       "    </tr>\n",
       "    <tr>\n",
       "      <th>3</th>\n",
       "      <td>negative</td>\n",
       "      <td>1.0000</td>\n",
       "      <td>Virgin America</td>\n",
       "      <td>jnardino</td>\n",
       "      <td>@VirginAmerica and it's a really big bad thing...</td>\n",
       "    </tr>\n",
       "    <tr>\n",
       "      <th>4</th>\n",
       "      <td>negative</td>\n",
       "      <td>1.0000</td>\n",
       "      <td>Virgin America</td>\n",
       "      <td>jnardino</td>\n",
       "      <td>@VirginAmerica seriously would pay $30 a fligh...</td>\n",
       "    </tr>\n",
       "    <tr>\n",
       "      <th>5</th>\n",
       "      <td>positive</td>\n",
       "      <td>0.6745</td>\n",
       "      <td>Virgin America</td>\n",
       "      <td>cjmcginnis</td>\n",
       "      <td>@VirginAmerica yes, nearly every time I fly VX...</td>\n",
       "    </tr>\n",
       "    <tr>\n",
       "      <th>6</th>\n",
       "      <td>neutral</td>\n",
       "      <td>0.6340</td>\n",
       "      <td>Virgin America</td>\n",
       "      <td>pilot</td>\n",
       "      <td>@VirginAmerica Really missed a prime opportuni...</td>\n",
       "    </tr>\n",
       "    <tr>\n",
       "      <th>7</th>\n",
       "      <td>positive</td>\n",
       "      <td>0.6559</td>\n",
       "      <td>Virgin America</td>\n",
       "      <td>dhepburn</td>\n",
       "      <td>@virginamerica Well, I didn't…but NOW I DO! :-D</td>\n",
       "    </tr>\n",
       "    <tr>\n",
       "      <th>8</th>\n",
       "      <td>positive</td>\n",
       "      <td>1.0000</td>\n",
       "      <td>Virgin America</td>\n",
       "      <td>YupitsTate</td>\n",
       "      <td>@VirginAmerica it was amazing, and arrived an ...</td>\n",
       "    </tr>\n",
       "    <tr>\n",
       "      <th>9</th>\n",
       "      <td>neutral</td>\n",
       "      <td>0.6769</td>\n",
       "      <td>Virgin America</td>\n",
       "      <td>idk_but_youtube</td>\n",
       "      <td>@VirginAmerica did you know that suicide is th...</td>\n",
       "    </tr>\n",
       "  </tbody>\n",
       "</table>\n",
       "</div>"
      ],
      "text/plain": [
       "  airline_sentiment  airline_sentiment_confidence         airline  \\\n",
       "0           neutral                        1.0000  Virgin America   \n",
       "1           neutral                        0.6837  Virgin America   \n",
       "2          negative                        1.0000  Virgin America   \n",
       "3          negative                        1.0000  Virgin America   \n",
       "4          negative                        1.0000  Virgin America   \n",
       "5          positive                        0.6745  Virgin America   \n",
       "6           neutral                        0.6340  Virgin America   \n",
       "7          positive                        0.6559  Virgin America   \n",
       "8          positive                        1.0000  Virgin America   \n",
       "9           neutral                        0.6769  Virgin America   \n",
       "\n",
       "              name                                               text  \n",
       "0          cairdin                @VirginAmerica What @dhepburn said.  \n",
       "1       yvonnalynn  @VirginAmerica I didn't today... Must mean I n...  \n",
       "2         jnardino  @VirginAmerica it's really aggressive to blast...  \n",
       "3         jnardino  @VirginAmerica and it's a really big bad thing...  \n",
       "4         jnardino  @VirginAmerica seriously would pay $30 a fligh...  \n",
       "5       cjmcginnis  @VirginAmerica yes, nearly every time I fly VX...  \n",
       "6            pilot  @VirginAmerica Really missed a prime opportuni...  \n",
       "7         dhepburn    @virginamerica Well, I didn't…but NOW I DO! :-D  \n",
       "8       YupitsTate  @VirginAmerica it was amazing, and arrived an ...  \n",
       "9  idk_but_youtube  @VirginAmerica did you know that suicide is th...  "
      ]
     },
     "execution_count": 10,
     "metadata": {},
     "output_type": "execute_result"
    }
   ],
   "source": [
    "subset"
   ]
  },
  {
   "cell_type": "markdown",
   "metadata": {},
   "source": [
    "### Compare the `sentiment` predictions with each line in `subset`\n",
    "\n",
    "We want to get a sense of how each tweet is being classified"
   ]
  },
  {
   "cell_type": "code",
   "execution_count": 11,
   "metadata": {
    "collapsed": false,
    "deletable": true,
    "editable": true,
    "jupyter": {
     "outputs_hidden": false
    }
   },
   "outputs": [
    {
     "name": "stdout",
     "output_type": "stream",
     "text": [
      "@VirginAmerica What @dhepburn said. \n",
      " 0.0 (target: neutral) \n",
      "\n",
      "@VirginAmerica I didn't today... Must mean I need to take another trip! \n",
      " -0.390625 (target: neutral) \n",
      "\n",
      "@VirginAmerica it's really aggressive to blast obnoxious \"entertainment\" in your guests' faces &amp; they have little recourse \n",
      " 0.0062500000000000056 (target: negative) \n",
      "\n",
      "@VirginAmerica and it's a really big bad thing about it \n",
      " -0.3499999999999999 (target: negative) \n",
      "\n",
      "@VirginAmerica seriously would pay $30 a flight for seats that didn't have this playing.\n",
      "it's really the only bad thing about flying VA \n",
      " -0.2083333333333333 (target: negative) \n",
      "\n",
      "@VirginAmerica yes, nearly every time I fly VX this “ear worm” won’t go away :) \n",
      " 0.4666666666666666 (target: positive) \n",
      "\n",
      "@VirginAmerica Really missed a prime opportunity for Men Without Hats parody, there. https://t.co/mWpG7grEZP \n",
      " 0.2 (target: neutral) \n",
      "\n",
      "@virginamerica Well, I didn't…but NOW I DO! :-D \n",
      " 1.0 (target: positive) \n",
      "\n",
      "@VirginAmerica it was amazing, and arrived an hour early. You're too good to me. \n",
      " 0.4666666666666666 (target: positive) \n",
      "\n",
      "@VirginAmerica did you know that suicide is the second leading cause of death among teens 10-24 \n",
      " 0.0 (target: neutral) \n",
      "\n"
     ]
    }
   ],
   "source": [
    "# print the tweets and predicted polarity line-by-line\n",
    "for i,t in enumerate(tweets):\n",
    "    s = TextBlob(t).sentiment\n",
    "    target = subset.airline_sentiment[i]\n",
    "    print(t, '\\n', '{} (target: {}) \\n'.format(s[0], target))"
   ]
  },
  {
   "cell_type": "code",
   "execution_count": 19,
   "metadata": {},
   "outputs": [
    {
     "name": "stdout",
     "output_type": "stream",
     "text": [
      "I had a great dog \n",
      "(p=0.8, s=0.75) \n",
      "\n",
      "He used to be my true friend \n",
      "(p=0.35, s=0.65) \n",
      "\n",
      "We used to go out and enjoy our days \n",
      "(p=0.4, s=0.5) \n",
      "\n",
      "but he got sick \n",
      "(p=-0.7142857142857143, s=0.8571428571428571) \n",
      "\n",
      "he felt really bad \n",
      "(p=-0.6999999999999998, s=0.6666666666666666) \n",
      "\n",
      "doctors said he can't be cured \n",
      "(p=0.0, s=0.0) \n",
      "\n",
      "he died eventually \n",
      "(p=0.0, s=0.0) \n",
      "\n",
      "I felt so sad \n",
      "(p=-0.5, s=1.0) \n",
      "\n",
      "and I became so lonely \n",
      "(p=-0.09999999999999998, s=0.7) \n",
      "\n"
     ]
    }
   ],
   "source": [
    "story = [\"I had a great dog\", \"He used to be my true friend\", \"We used to go out and enjoy our days\",\n",
    "         \"but he got sick\", \"he felt really bad\", \"doctors said he can't be cured\",  \"he died eventually\",\n",
    "         \"I felt so sad\", \"and I became so lonely\"]\n",
    "\n",
    "#.......Code here"
   ]
  },
  {
   "cell_type": "code",
   "execution_count": null,
   "metadata": {},
   "outputs": [],
   "source": []
  }
 ],
 "metadata": {
  "anaconda-cloud": {},
  "kernelspec": {
   "display_name": "Python 3",
   "language": "python",
   "name": "python3"
  },
  "language_info": {
   "codemirror_mode": {
    "name": "ipython",
    "version": 3
   },
   "file_extension": ".py",
   "mimetype": "text/x-python",
   "name": "python",
   "nbconvert_exporter": "python",
   "pygments_lexer": "ipython3",
   "version": "3.6.4"
  }
 },
 "nbformat": 4,
 "nbformat_minor": 4
}
