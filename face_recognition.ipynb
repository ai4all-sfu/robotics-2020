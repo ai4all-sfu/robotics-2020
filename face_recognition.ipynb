{
 "cells": [
  {
   "cell_type": "markdown",
   "metadata": {},
   "source": [
    "# Face Recognition"
   ]
  },
  {
   "cell_type": "code",
   "execution_count": 1,
   "metadata": {},
   "outputs": [],
   "source": [
    "import cv2  #import OpenCV module\n",
    "import os   #import os module for reading training data directories and paths\n",
    "import numpy as np"
   ]
  },
  {
   "cell_type": "markdown",
   "metadata": {},
   "source": [
    "### Training Data"
   ]
  },
  {
   "cell_type": "code",
   "execution_count": 2,
   "metadata": {},
   "outputs": [],
   "source": [
    "subjects = [1]\n",
    "subjects_names = [\"Rachel\"]"
   ]
  },
  {
   "cell_type": "markdown",
   "metadata": {},
   "source": [
    "### Detecting faces"
   ]
  },
  {
   "cell_type": "code",
   "execution_count": 3,
   "metadata": {},
   "outputs": [],
   "source": [
    "def detect_face(img):\n",
    "    gray = cv2.cvtColor(img, cv2.COLOR_BGR2GRAY)\n",
    "    cv2_base_dir = os.path.dirname(os.path.abspath(cv2.__file__))\n",
    "    lbp_model = os.path.join('lbpcascade_frontalface.xml')\n",
    "    face_cascade = cv2.CascadeClassifier(lbp_model)\n",
    "    faces = face_cascade.detectMultiScale(gray, scaleFactor=1.2, minNeighbors=5);\n",
    "    if (len(faces) == 0):\n",
    "        return None, None\n",
    "    (x, y, w, h) = faces[0]\n",
    "    \n",
    "    #return only the face part of the image\n",
    "    return gray[y:y+w, x:x+h], faces[0]"
   ]
  },
  {
   "cell_type": "markdown",
   "metadata": {},
   "source": [
    "This function reads training images, returns one list with faces and labels."
   ]
  },
  {
   "cell_type": "code",
   "execution_count": 4,
   "metadata": {},
   "outputs": [],
   "source": [
    "def prepare_training_data(data_folder_path):\n",
    "    \n",
    "    # get the directories (one directory for each subject) in data folder\n",
    "    dirs = ['Rachel'] # os.listdir(data_folder_path)\n",
    "    print(dirs)\n",
    "    faces = []   #list to hold all subject faces  \n",
    "    labels = []  #list to hold labels for all subjects\n",
    "    # our subject directories start with the letter 's' so we should ignore any non-relevant directories if any\n",
    "    label = 0\n",
    "    subject_dir_path = data_folder_path + \"/\" + dirs[0]\n",
    "\n",
    "    # find image names in the directory\n",
    "    subject_images_names = os.listdir(subject_dir_path)\n",
    "    print(subject_images_names)    \n",
    "    for image_name in subject_images_names:\n",
    "        if image_name.startswith(\".\"):   #ignore system files like .DS_Store\n",
    "            continue;\n",
    "        image_path = subject_dir_path + \"/\" + image_name\n",
    "        # read the image\n",
    "        image = cv2.imread(image_path)\n",
    "\n",
    "        # show the image\n",
    "        cv2.imshow(\"Training on image...\", image)\n",
    "        cv2.waitKey(100)\n",
    "\n",
    "\n",
    "        # detect each face in the images\n",
    "        face, rect = detect_face(image)\n",
    "\n",
    "        if face is not None: # ignore images without face\n",
    "            # add face to list of faces\n",
    "            faces.append(face)\n",
    "            # add label for this face\n",
    "            labels.append(label)\n",
    "\n",
    "    cv2.destroyAllWindows()\n",
    "    cv2.waitKey(1)\n",
    "    cv2.destroyAllWindows()\n",
    "    \n",
    "    return faces, labels"
   ]
  },
  {
   "cell_type": "code",
   "execution_count": 5,
   "metadata": {},
   "outputs": [
    {
     "name": "stdout",
     "output_type": "stream",
     "text": [
      "['Rachel', 'Ross']\n",
      "Rachel\n",
      "['rachel2.jpeg', 'rachel1.jpg', 'rachel3.jpg', 'rachel6.jpg', 'rachel5.png', 'rachel4.jpg']\n",
      "Ross\n",
      "['ross.png', 'ross6.jpeg', 'ross4.jpeg', 'ross5.jpg', 'ross2.jpg', 'ross3.jpeg', 'ross1.jpg']\n"
     ]
    }
   ],
   "source": [
    "faces, labels = prepare_training_data(\"data/dataset\")"
   ]
  },
  {
   "cell_type": "code",
   "execution_count": null,
   "metadata": {},
   "outputs": [],
   "source": [
    "print(\"Preparing data...\")\n",
    "faces, labels = prepare_training_data(\"data/dataset\")\n",
    "print(\"Data prepared\")\n",
    "\n",
    "#print total faces and labels\n",
    "print(\"Total faces: \", len(faces))\n",
    "print(\"Total labels: \", len(labels))\n"
   ]
  },
  {
   "cell_type": "code",
   "execution_count": 7,
   "metadata": {},
   "outputs": [],
   "source": [
    "#create our LBPH face recognizer \n",
    "face_recognizer = cv2.face.LBPHFaceRecognizer_create() \n",
    "\n",
    "#or use EigenFaceRecognizer by replacing above line with \n",
    "#face_recognizer = cv2.face.createEigenFaceRecognizer()\n",
    "\n",
    "#or use FisherFaceRecognizer by replacing above line with \n",
    "#face_recognizer = cv2.face.createFisherFaceRecognizer()"
   ]
  },
  {
   "cell_type": "code",
   "execution_count": 8,
   "metadata": {},
   "outputs": [],
   "source": [
    "# train our face recognizer of our training faces\n",
    "face_recognizer.train(faces, np.array(labels))"
   ]
  },
  {
   "cell_type": "markdown",
   "metadata": {},
   "source": [
    "### Prediction"
   ]
  },
  {
   "cell_type": "code",
   "execution_count": 9,
   "metadata": {},
   "outputs": [],
   "source": [
    "def draw_rectangle(img, rect):\n",
    "    (x, y, w, h) = rect\n",
    "    cv2.rectangle(img, (x, y), (x+w, y+h), (0, 255, 0), 2)\n",
    "    \n",
    "# function to draw text on give image starting from (x, y) coordinates. \n",
    "def draw_text(img, text, x, y):\n",
    "    cv2.putText(img, text, (x, y), cv2.FONT_HERSHEY_PLAIN, 1.5, (0, 255, 0), 2)"
   ]
  },
  {
   "cell_type": "code",
   "execution_count": 10,
   "metadata": {},
   "outputs": [],
   "source": [
    "def predict(test_img):\n",
    "    img = test_img.copy()\n",
    "    face, rect = detect_face(img)\n",
    "\n",
    "    label, conf= face_recognizer.predict(face)\n",
    "    label_text = subjects_names[label]\n",
    "    \n",
    "    draw_rectangle(img, rect)\n",
    "    draw_text(img, label_text, rect[0], rect[1]-5)\n",
    "    \n",
    "    return img, label_text"
   ]
  },
  {
   "cell_type": "code",
   "execution_count": null,
   "metadata": {},
   "outputs": [
    {
     "name": "stdout",
     "output_type": "stream",
     "text": [
      "Predicting images...\n",
      "[1, 2]\n",
      "0\n",
      "Prediction complete\n"
     ]
    }
   ],
   "source": [
    "print(\"Predicting images...\")\n",
    "\n",
    "# load test images\n",
    "test_img1 = cv2.imread(\"data/rachel.jpg\")\n",
    "\n",
    "# recognize the person\n",
    "predicted_img1, label_text = predict(test_img1)\n",
    "print(\"Prediction complete\")\n",
    "\n",
    "cv2.imshow(label_text, predicted_img1)\n",
    "cv2.waitKey(0)\n",
    "cv2.destroyAllWindows()"
   ]
  },
  {
   "cell_type": "code",
   "execution_count": null,
   "metadata": {},
   "outputs": [],
   "source": []
  },
  {
   "cell_type": "code",
   "execution_count": null,
   "metadata": {},
   "outputs": [],
   "source": []
  }
 ],
 "metadata": {
  "kernelspec": {
   "display_name": "Python 3",
   "language": "python",
   "name": "python3"
  },
  "language_info": {
   "codemirror_mode": {
    "name": "ipython",
    "version": 3
   },
   "file_extension": ".py",
   "mimetype": "text/x-python",
   "name": "python",
   "nbconvert_exporter": "python",
   "pygments_lexer": "ipython3",
   "version": "3.6.4"
  },
  "widgets": {
   "state": {},
   "version": "1.1.2"
  }
 },
 "nbformat": 4,
 "nbformat_minor": 4
}
